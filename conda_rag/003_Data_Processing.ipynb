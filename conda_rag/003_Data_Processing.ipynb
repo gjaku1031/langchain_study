{
 "cells": [
  {
   "metadata": {},
   "cell_type": "markdown",
   "source": "## 1. 환경설정",
   "id": "f26940161af142bc"
  },
  {
   "cell_type": "code",
   "id": "initial_id",
   "metadata": {
    "collapsed": true,
    "ExecuteTime": {
     "end_time": "2025-07-05T14:41:48.466456Z",
     "start_time": "2025-07-05T14:41:48.461415Z"
    }
   },
   "source": [
    "import json\n",
    "\n",
    "from dotenv import load_dotenv\n",
    "\n",
    "load_dotenv('../.env')"
   ],
   "outputs": [
    {
     "data": {
      "text/plain": [
       "True"
      ]
     },
     "execution_count": 21,
     "metadata": {},
     "output_type": "execute_result"
    }
   ],
   "execution_count": 21
  },
  {
   "metadata": {},
   "cell_type": "markdown",
   "source": [
    "## 2. 다양한 문서 형식 처리하기\n",
    "### 2.1 PDF 문설"
   ],
   "id": "7e4a7ded80ee06d6"
  },
  {
   "metadata": {},
   "cell_type": "code",
   "source": [
    "from langchain_community.document_loaders import PyPDFLoader\n",
    "\n",
    "pdf_loader = PyPDFLoader(\"./data/transformer.pdf\")\n",
    "pdf_docs = pdf_loader.load()\n",
    "print(len(pdf_docs))\n",
    "print(pdf_docs)\n",
    "print(pdf_docs[0].metadata)\n",
    "print(pdf_docs[0].page_content)\n"
   ],
   "id": "a7cb93b927f18c6b",
   "outputs": [],
   "execution_count": null
  },
  {
   "metadata": {},
   "cell_type": "markdown",
   "source": "## 2.2 웹 문서",
   "id": "34d3b16a934106cf"
  },
  {
   "metadata": {},
   "cell_type": "code",
   "source": [
    "from langchain_community.document_loaders import WebBaseLoader\n",
    "\n",
    "web_loader = WebBaseLoader([\"https://python.langchain.com/\", \"https://js.langchain.com/\"])\n",
    "web_docs = web_loader.load()\n",
    "print(len(web_docs))\n",
    "web_docs[0].metadata\n",
    "print(web_docs[0].page_content)"
   ],
   "id": "78c42d26f26e237f",
   "outputs": [],
   "execution_count": null
  },
  {
   "metadata": {},
   "cell_type": "markdown",
   "source": "## 2.3 JSON 파일",
   "id": "ea129d66d80ca7c3"
  },
  {
   "metadata": {
    "ExecuteTime": {
     "end_time": "2025-07-05T14:48:48.778723Z",
     "start_time": "2025-07-05T14:48:48.771732Z"
    }
   },
   "cell_type": "code",
   "source": [
    "from langchain_community.document_loaders import JSONLoader\n",
    "\n",
    "json_loader = JSONLoader(\n",
    "    file_path=\"./data/kakao_chat.json\",\n",
    "    jq_schema=\".messages[].content\",  # messages 배열의 content 필드만 추출\n",
    "    text_content=True  # 추출하려는 필드가 텍스트인지 여부\n",
    ")\n",
    "\n",
    "json_docs = json_loader.load()\n",
    "\n",
    "print(\"문서의 수: \", len(json_docs))\n",
    "print(\"-\" * 50)\n",
    "print(\"처음 문서의 메타데이터: \\n\", json_docs[0].metadata)\n",
    "print(\"-\" * 50)\n",
    "print(\"처음 문서의 내용: \\n\", json_docs[0].page_content)"
   ],
   "id": "a053dc5b8b362fd5",
   "outputs": [
    {
     "name": "stdout",
     "output_type": "stream",
     "text": [
      "문서의 수:  5\n",
      "--------------------------------------------------\n",
      "처음 문서의 메타데이터: \n",
      " {'source': '/Users/ken/IdeaProjects/vtopia/langchain_study/conda_rag/data/kakao_chat.json', 'seq_num': 1}\n",
      "--------------------------------------------------\n",
      "처음 문서의 내용: \n",
      " 안녕하세요 여러분, 오늘 회의 시간 확인차 연락드립니다.\n"
     ]
    }
   ],
   "execution_count": 42
  },
  {
   "metadata": {
    "ExecuteTime": {
     "end_time": "2025-07-05T14:48:57.460282Z",
     "start_time": "2025-07-05T14:48:57.453751Z"
    }
   },
   "cell_type": "code",
   "source": [
    "from langchain_community.document_loaders import JSONLoader\n",
    "\n",
    "json_loader = JSONLoader(\n",
    "    file_path=\"./data/kakao_chat.json\",\n",
    "    jq_schema=\".messages[]\",    # messages 배열의 모든 아이템을 추출\n",
    "    text_content=False,          # 추출하려는 필드가 텍스트인지 여부\n",
    ")\n",
    "\n",
    "json_docs = json_loader.load()\n",
    "\n",
    "print(\"문서의 수:\", len(json_docs))\n",
    "print(\"-\" * 50)\n",
    "print(\"처음 문서의 메타데이터: \\n\", json_docs[0].metadata)\n",
    "print(\"-\" * 50)\n",
    "print(\"처음 문서의 내용: \\n\", json_docs[0].page_content)"
   ],
   "id": "af8680387fcfe785",
   "outputs": [
    {
     "name": "stdout",
     "output_type": "stream",
     "text": [
      "문서의 수: 5\n",
      "--------------------------------------------------\n",
      "처음 문서의 메타데이터: \n",
      " {'source': '/Users/ken/IdeaProjects/vtopia/langchain_study/conda_rag/data/kakao_chat.json', 'seq_num': 1}\n",
      "--------------------------------------------------\n",
      "처음 문서의 내용: \n",
      " {\"sender\": \"\\uae40\\ucca0\\uc218\", \"timestamp\": \"2023-09-15 09:30:22\", \"content\": \"\\uc548\\ub155\\ud558\\uc138\\uc694 \\uc5ec\\ub7ec\\ubd84, \\uc624\\ub298 \\ud68c\\uc758 \\uc2dc\\uac04 \\ud655\\uc778\\ucc28 \\uc5f0\\ub77d\\ub4dc\\ub9bd\\ub2c8\\ub2e4.\"}\n"
     ]
    }
   ],
   "execution_count": 43
  },
  {
   "metadata": {
    "ExecuteTime": {
     "end_time": "2025-07-05T14:49:13.300048Z",
     "start_time": "2025-07-05T14:49:13.295526Z"
    }
   },
   "cell_type": "code",
   "source": [
    "# 유니코드 디코딩 (한글 문자들이 유니코드 이스케이프 시퀀스로 인코딩되어 있음)\n",
    "from langchain_core.documents import Document\n",
    "\n",
    "decoded_json_docs = []\n",
    "for doc in json_docs:\n",
    "\n",
    "    decoded_data = json.loads(doc.page_content)\n",
    "\n",
    "    # decoded_json_docs.append({\n",
    "    #     \"metadata\": doc.metadata,\n",
    "    #     \"page_content\": json.dumps(decoded_data, ensure_ascii=False)\n",
    "    # })\n",
    "\n",
    "    document_obj = Document(page_content=json.dumps(decoded_data, ensure_ascii=False), metadata=doc.metadata)\n",
    "    decoded_json_docs.append(document_obj)\n",
    "\n",
    "print(\"문서의 수:\", len(decoded_json_docs))\n",
    "print(\"-\" * 50)\n",
    "# print(\"처음 문서의 메타데이터: \\n\", decoded_json_docs[0][\"metadata\"])\n",
    "print(\"처음 문서의 메타데이터: \\n\", decoded_json_docs[0].metadata)\n",
    "print(\"-\" * 50)\n",
    "# print(\"처음 문서의 내용: \\n\", decoded_json_docs[0][\"page_content\"])\n",
    "print(\"처음 문서의 내용: \\n\", decoded_json_docs[0].page_content)"
   ],
   "id": "f6944755fcd1a7c1",
   "outputs": [
    {
     "name": "stdout",
     "output_type": "stream",
     "text": [
      "문서의 수: 5\n",
      "--------------------------------------------------\n",
      "처음 문서의 메타데이터: \n",
      " {'source': '/Users/ken/IdeaProjects/vtopia/langchain_study/conda_rag/data/kakao_chat.json', 'seq_num': 1}\n",
      "--------------------------------------------------\n",
      "처음 문서의 내용: \n",
      " {\"sender\": \"김철수\", \"timestamp\": \"2023-09-15 09:30:22\", \"content\": \"안녕하세요 여러분, 오늘 회의 시간 확인차 연락드립니다.\"}\n"
     ]
    }
   ],
   "execution_count": 44
  },
  {
   "metadata": {
    "ExecuteTime": {
     "end_time": "2025-07-05T14:49:29.551995Z",
     "start_time": "2025-07-05T14:49:29.545530Z"
    }
   },
   "cell_type": "code",
   "source": [
    "# 메타데이터 추가하기\n",
    "def metadata_func(record: dict, metadata: dict) -> dict:\n",
    "    metadata[\"sender\"] = record.get(\"sender\")\n",
    "    metadata[\"timestamp\"] = record.get(\"timestamp\")\n",
    "    return metadata\n",
    "\n",
    "\n",
    "json_loader = JSONLoader(\n",
    "    file_path=\"./data/kakao_chat.json\",\n",
    "    jq_schema=\".messages[]\",\n",
    "    content_key=\"content\",\n",
    "    metadata_func=metadata_func,\n",
    ")\n",
    "\n",
    "json_docs = json_loader.load()\n",
    "\n",
    "print(\"문서의 수:\", len(json_docs))\n",
    "print(\"-\" * 50)\n",
    "print(\"처음 문서의 메타데이터: \\n\", json_docs[0].metadata)\n",
    "print(\"-\" * 50)\n",
    "print(\"처음 문서의 내용: \\n\", json_docs[0].page_content)"
   ],
   "id": "2e637fea80dcf077",
   "outputs": [
    {
     "name": "stdout",
     "output_type": "stream",
     "text": [
      "문서의 수: 5\n",
      "--------------------------------------------------\n",
      "처음 문서의 메타데이터: \n",
      " {'source': '/Users/ken/IdeaProjects/vtopia/langchain_study/conda_rag/data/kakao_chat.json', 'seq_num': 1, 'sender': '김철수', 'timestamp': '2023-09-15 09:30:22'}\n",
      "--------------------------------------------------\n",
      "처음 문서의 내용: \n",
      " 안녕하세요 여러분, 오늘 회의 시간 확인차 연락드립니다.\n"
     ]
    }
   ],
   "execution_count": 45
  },
  {
   "metadata": {
    "ExecuteTime": {
     "end_time": "2025-07-05T14:49:38.287188Z",
     "start_time": "2025-07-05T14:49:38.279945Z"
    }
   },
   "cell_type": "code",
   "source": [
    "# JSONL 파일 로드하기\n",
    "json_loader = JSONLoader(\n",
    "    file_path=\"./data/kakao_chat.jsonl\",\n",
    "    jq_schema=\".\",\n",
    "    content_key=\"content\",\n",
    "    json_lines=True,\n",
    ")\n",
    "\n",
    "json_docs = json_loader.load()\n",
    "\n",
    "print(\"문서의 수:\", len(json_docs))\n",
    "print(\"-\" * 50)\n",
    "print(\"처음 문서의 메타데이터: \\n\", json_docs[0].metadata)\n",
    "print(\"-\" * 50)\n",
    "print(\"처음 문서의 내용: \\n\", json_docs[0].page_content)"
   ],
   "id": "8b2f006b37cd7d60",
   "outputs": [
    {
     "name": "stdout",
     "output_type": "stream",
     "text": [
      "문서의 수: 5\n",
      "--------------------------------------------------\n",
      "처음 문서의 메타데이터: \n",
      " {'source': '/Users/ken/IdeaProjects/vtopia/langchain_study/conda_rag/data/kakao_chat.jsonl', 'seq_num': 1}\n",
      "--------------------------------------------------\n",
      "처음 문서의 내용: \n",
      " 안녕하세요 여러분, 오늘 회의 시간 확인차 연락드립니다.\n"
     ]
    }
   ],
   "execution_count": 46
  },
  {
   "metadata": {},
   "cell_type": "code",
   "outputs": [],
   "execution_count": null,
   "source": [
    "# 메타데이터 추가하기\n",
    "def metadata_func(record: dict, metadata: dict) -> dict:\n",
    "    metadata[\"sender\"] = record.get(\"sender\")\n",
    "    metadata[\"timestamp\"] = record.get(\"timestamp\")\n",
    "    return metadata\n",
    "\n",
    "json_loader = JSONLoader(\n",
    "    file_path=\"./data/kakao_chat.jsonl\",\n",
    "    jq_schema=\".\",\n",
    "    content_key=\"content\",\n",
    "    metadata_func=metadata_func,\n",
    "    json_lines=True,\n",
    ")\n",
    "\n",
    "json_docs = json_loader.load()\n",
    "\n",
    "print(\"문서의 수:\", len(json_docs))\n",
    "print(\"-\" * 50)\n",
    "print(\"처음 문서의 메타데이터: \\n\", json_docs[0].metadata)\n",
    "print(\"-\" * 50)\n",
    "print(\"처음 문서의 내용: \\n\", json_docs[0].page_content)"
   ],
   "id": "3757999c756417d4"
  }
 ],
 "metadata": {
  "kernelspec": {
   "display_name": "Python 3",
   "language": "python",
   "name": "python3"
  },
  "language_info": {
   "codemirror_mode": {
    "name": "ipython",
    "version": 2
   },
   "file_extension": ".py",
   "mimetype": "text/x-python",
   "name": "python",
   "nbconvert_exporter": "python",
   "pygments_lexer": "ipython2",
   "version": "2.7.6"
  }
 },
 "nbformat": 4,
 "nbformat_minor": 5
}
