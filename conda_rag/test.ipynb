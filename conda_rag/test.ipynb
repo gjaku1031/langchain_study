{
 "cells": [
  {
   "cell_type": "code",
   "id": "7bdba9d4",
   "metadata": {
    "ExecuteTime": {
     "end_time": "2025-07-04T19:07:05.176248Z",
     "start_time": "2025-07-04T19:07:05.167863Z"
    }
   },
   "source": [
    "1+1\n"
   ],
   "outputs": [
    {
     "data": {
      "text/plain": [
       "2"
      ]
     },
     "execution_count": 1,
     "metadata": {},
     "output_type": "execute_result"
    }
   ],
   "execution_count": 1
  },
  {
   "cell_type": "code",
   "execution_count": null,
   "id": "1b8ef3a2",
   "metadata": {},
   "outputs": [],
   "source": []
  }
 ],
 "metadata": {
  "kernelspec": {
   "display_name": "Python 3",
   "language": "python",
   "name": "python3"
  },
  "language_info": {
   "codemirror_mode": {
    "name": "ipython",
    "version": 3
   },
   "file_extension": ".py",
   "mimetype": "text/x-python",
   "name": "python",
   "nbconvert_exporter": "python",
   "pygments_lexer": "ipython3",
   "version": "3.11.13"
  }
 },
 "nbformat": 4,
 "nbformat_minor": 5
}
