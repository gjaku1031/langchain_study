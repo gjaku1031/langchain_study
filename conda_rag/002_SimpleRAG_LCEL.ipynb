{
 "cells": [
  {
   "cell_type": "markdown",
   "id": "e0954173",
   "metadata": {},
   "source": "## 1. 환경 설정"
  },
  {
   "cell_type": "code",
   "id": "1e1376e3",
   "metadata": {
    "ExecuteTime": {
     "end_time": "2025-07-05T12:39:01.525905Z",
     "start_time": "2025-07-05T12:39:01.091908Z"
    }
   },
   "source": [
    "from re import search\n",
    "\n",
    "# (1) Env 환경변수\n",
    "from dotenv import load_dotenv\n",
    "\n",
    "load_dotenv('../.env')\n",
    "\n",
    "# (2) 기본 라이브러리\n",
    "import os\n",
    "from glob import glob\n",
    "\n",
    "from pprint import pprint\n",
    "\n",
    "# 벡터저장소 로드\n",
    "from langchain_chroma import Chroma\n",
    "from langchain_openai import OpenAIEmbeddings\n",
    "\n",
    "embeddings = OpenAIEmbeddings(\n",
    "    model=\"text-embedding-3-small\",\n",
    ")\n",
    "\n",
    "vectorstore = Chroma(\n",
    "    embedding_function=embeddings,\n",
    "    collection_name=\"chroma_test\",\n",
    "    persist_directory=\"./chroma_db\",\n",
    ")\n",
    "\n",
    "print(f\"벡터 저장소에 저장된 문서 수: {vectorstore._collection.count()}\")"
   ],
   "outputs": [
    {
     "name": "stderr",
     "output_type": "stream",
     "text": [
      "Failed to send telemetry event ClientStartEvent: capture() takes 1 positional argument but 3 were given\n",
      "Failed to send telemetry event ClientCreateCollectionEvent: capture() takes 1 positional argument but 3 were given\n"
     ]
    },
    {
     "name": "stdout",
     "output_type": "stream",
     "text": [
      "벡터 저장소에 저장된 문서 수: 5\n"
     ]
    }
   ],
   "execution_count": 3
  },
  {
   "cell_type": "markdown",
   "id": "07d02097",
   "metadata": {},
   "source": [
    "## 2. LangChain LCEL\n",
    "### 2.1 Prompt + LLM"
   ]
  },
  {
   "cell_type": "code",
   "id": "f4f25469",
   "metadata": {
    "ExecuteTime": {
     "end_time": "2025-07-05T12:39:02.803184Z",
     "start_time": "2025-07-05T12:39:01.532631Z"
    }
   },
   "source": [
    "# 다중 메시지 전송\n",
    "from langchain_openai import ChatOpenAI\n",
    "from langchain_core.prompts import ChatPromptTemplate\n",
    "\n",
    "# 모델 초기화\n",
    "llm = ChatOpenAI(\n",
    "    model=\"gpt-4.1-nano\",\n",
    "    temperature=0.3,\n",
    "    max_tokens=100,\n",
    ")\n",
    "\n",
    "messages = [\n",
    "    (\"system\", \"You are a helpful assistant.\"),\n",
    "    (\"user\", \"{query}\"),\n",
    "]\n",
    "\n",
    "# 메시지 리스트를 템플릿으로 변환\n",
    "prompt = ChatPromptTemplate.from_messages(messages)\n",
    "\n",
    "# 템플릿을 출력\n",
    "print(prompt)\n",
    "\n",
    "# 템플릿 입력 변수를 출력\n",
    "print(prompt.input_variables)\n",
    "\n",
    "# input 값을 전달하여 프롬프트를 랜더링\n",
    "prompt_text = prompt.format(query=\"테슬라 창업자는 누구인가요?\")\n",
    "print(prompt_text)\n",
    "\n",
    "# 모델에 prompt text를 직접 입력\n",
    "response = llm.invoke(prompt_text)\n",
    "print(response.content)"
   ],
   "outputs": [
    {
     "name": "stdout",
     "output_type": "stream",
     "text": [
      "input_variables=['query'] messages=[SystemMessagePromptTemplate(prompt=PromptTemplate(input_variables=[], template='You are a helpful assistant.')), HumanMessagePromptTemplate(prompt=PromptTemplate(input_variables=['query'], template='{query}'))]\n",
      "['query']\n",
      "System: You are a helpful assistant.\n",
      "Human: 테슬라 창업자는 누구인가요?\n",
      "테슬라의 창업자는 일론 머스크(Elon Musk), JB 스트라우벨(JB Straubel), 마틴 에버하드(Martin Eberhard), 마크 타페니스(Marc Tarpenning), 그리고 이반 로버츠(Ivan Rodriguez)입니다. 특히 일론 머스크는 초기 투자자이자 현재 CEO로서 테슬라의 대표적인 인물입니다.\n"
     ]
    }
   ],
   "execution_count": 4
  },
  {
   "cell_type": "code",
   "id": "337f8017",
   "metadata": {
    "ExecuteTime": {
     "end_time": "2025-07-05T12:39:02.821574Z",
     "start_time": "2025-07-05T12:39:02.818817Z"
    }
   },
   "source": [
    "# LCEL 체인을 구성\n",
    "chain = prompt | llm\n",
    "print(chain)"
   ],
   "outputs": [
    {
     "name": "stdout",
     "output_type": "stream",
     "text": [
      "first=ChatPromptTemplate(input_variables=['query'], messages=[SystemMessagePromptTemplate(prompt=PromptTemplate(input_variables=[], template='You are a helpful assistant.')), HumanMessagePromptTemplate(prompt=PromptTemplate(input_variables=['query'], template='{query}'))]) last=ChatOpenAI(client=<openai.resources.chat.completions.completions.Completions object at 0x11a01c650>, async_client=<openai.resources.chat.completions.completions.AsyncCompletions object at 0x11a1c3490>, root_client=<openai.OpenAI object at 0x11a18a310>, root_async_client=<openai.AsyncOpenAI object at 0x11a1c1dd0>, model_name='gpt-4.1-nano', temperature=0.3, openai_api_key=SecretStr('**********'), openai_proxy='', max_tokens=100)\n"
     ]
    }
   ],
   "execution_count": 5
  },
  {
   "cell_type": "code",
   "id": "bfa04923",
   "metadata": {
    "ExecuteTime": {
     "end_time": "2025-07-05T12:39:02.834762Z",
     "start_time": "2025-07-05T12:39:02.831898Z"
    }
   },
   "source": [
    "# 체인의 입력 스키마를 출력\n",
    "from pprint import pprint\n",
    "\n",
    "pprint(chain.input_schema.schema())"
   ],
   "outputs": [
    {
     "name": "stdout",
     "output_type": "stream",
     "text": [
      "{'properties': {'query': {'title': 'Query', 'type': 'string'}},\n",
      " 'required': ['query'],\n",
      " 'title': 'PromptInput',\n",
      " 'type': 'object'}\n"
     ]
    }
   ],
   "execution_count": 6
  },
  {
   "cell_type": "code",
   "id": "0398ca96",
   "metadata": {
    "ExecuteTime": {
     "end_time": "2025-07-05T12:39:03.924881Z",
     "start_time": "2025-07-05T12:39:02.851900Z"
    }
   },
   "source": [
    "# 체인을 실행 - 옵션 1\n",
    "response = chain.invoke({\"query\": \"테슬라 창업자는 누구인가요?\"})\n",
    "print(response.content)"
   ],
   "outputs": [
    {
     "name": "stdout",
     "output_type": "stream",
     "text": [
      "테슬라의 창업자는 일론 머스크(Elon Musk), JB 스트라우벨(JB Straubel), 마틴 에버하드(Martin Eberhard), 마크 타페니스(Marc Tarpenning), 그리고 이반 체바(Ivan Chev)입니다. 이 중 일론 머스크는 종종 테슬라의 대표적 인물로 알려져 있으며, 현재도 회사의 중요한 리더입니다.\n"
     ]
    }
   ],
   "execution_count": 7
  },
  {
   "cell_type": "code",
   "id": "129d3011",
   "metadata": {
    "ExecuteTime": {
     "end_time": "2025-07-05T12:39:05.003005Z",
     "start_time": "2025-07-05T12:39:03.940589Z"
    }
   },
   "source": [
    "# 체인을 실행 - 옵션 2\n",
    "response = chain.invoke(\"테슬라 창업자는 누구인가요?\")\n",
    "print(response.content)"
   ],
   "outputs": [
    {
     "name": "stdout",
     "output_type": "stream",
     "text": [
      "테슬라의 공동 창업자는 마틴 에버하드(Martin Eberhard)와 마크 타페닝(Marc Tarpenning)입니다. 이후 일론 머스크(Elon Musk), JB 스트라우벨(JB Straubel), 그리고 이반스 리드(Evan Williams) 등이 회사의 중요한 인물로 참여하며 성장시켰습니다. 특히 일론 머스크는 테슬라의 대표이사로서 회사의 방향성을 이끄\n"
     ]
    }
   ],
   "execution_count": 8
  },
  {
   "cell_type": "markdown",
   "id": "022b30a3",
   "metadata": {},
   "source": [
    "## 2.2 Prompt + LLM + Output Parser\n",
    "### a) 문자열 파싱 - StrOutputParser"
   ]
  },
  {
   "cell_type": "code",
   "id": "98e7e19c",
   "metadata": {
    "ExecuteTime": {
     "end_time": "2025-07-05T12:39:05.816303Z",
     "start_time": "2025-07-05T12:39:05.017555Z"
    }
   },
   "source": [
    "\n",
    "from langchain_core.output_parsers import StrOutputParser\n",
    "\n",
    "output_parser = StrOutputParser()\n",
    "output_parser.invoke(response)\n",
    "\n",
    "str_chain = prompt | llm | output_parser\n",
    "query = \"리비안의 설립년도는 언제인가요?\"\n",
    "str_response = str_chain.invoke(query)\n",
    "print(str_response)"
   ],
   "outputs": [
    {
     "name": "stdout",
     "output_type": "stream",
     "text": [
      "리비안(Rivian)은 2009년에 설립되었습니다.\n"
     ]
    }
   ],
   "execution_count": 9
  },
  {
   "cell_type": "markdown",
   "id": "e3e85cf9",
   "metadata": {},
   "source": [
    "### b) JSON 출력 - JsonOutputParser"
   ]
  },
  {
   "cell_type": "code",
   "id": "c4973b8d",
   "metadata": {
    "ExecuteTime": {
     "end_time": "2025-07-05T12:39:06.907228Z",
     "start_time": "2025-07-05T12:39:05.822842Z"
    }
   },
   "source": [
    "from langchain_core.output_parsers import JsonOutputParser\n",
    "\n",
    "# 출력 파서를 생성\n",
    "json_parser = JsonOutputParser()\n",
    "\n",
    "# 체인을 실행(Json 출력)\n",
    "json_response = chain.invoke(\"테슬라 창업자는 누구인가요? JSON형식으로 출력해주세요.\")\n",
    "print(json_response)\n",
    "\n",
    "json_parser_output = json_parser.invoke(json_response)\n",
    "print(json_parser_output)"
   ],
   "outputs": [
    {
     "name": "stdout",
     "output_type": "stream",
     "text": [
      "content='```json\\n{\\n  \"창업자\": \"마틴 에버하드, 마크 타페닝, JB 스트라우벨\"\\n}\\n```' additional_kwargs={'refusal': None} response_metadata={'token_usage': {'completion_tokens': 31, 'prompt_tokens': 34, 'total_tokens': 65, 'completion_tokens_details': {'accepted_prediction_tokens': 0, 'audio_tokens': 0, 'reasoning_tokens': 0, 'rejected_prediction_tokens': 0}, 'prompt_tokens_details': {'audio_tokens': 0, 'cached_tokens': 0}}, 'model_name': 'gpt-4.1-nano-2025-04-14', 'system_fingerprint': 'fp_38343a2f8f', 'finish_reason': 'stop', 'logprobs': None} id='run-4531c75c-dea3-49d7-bec0-67fbae07e732-0' usage_metadata={'input_tokens': 34, 'output_tokens': 31, 'total_tokens': 65}\n",
      "{'창업자': '마틴 에버하드, 마크 타페닝, JB 스트라우벨'}\n"
     ]
    }
   ],
   "execution_count": 10
  },
  {
   "cell_type": "markdown",
   "id": "5a44e32a",
   "metadata": {},
   "source": [
    "### c) Schema 지정 - Pydantic"
   ]
  },
  {
   "cell_type": "code",
   "id": "c9f2bf84",
   "metadata": {
    "ExecuteTime": {
     "end_time": "2025-07-05T12:39:07.386568Z",
     "start_time": "2025-07-05T12:39:06.919329Z"
    }
   },
   "source": [
    "from langchain_core.output_parsers import PydanticOutputParser\n",
    "from langchain_core.pydantic_v1 import BaseModel, Field, validator\n",
    "\n",
    "\n",
    "# Pydantic 모델을 생성\n",
    "class Person(BaseModel):\n",
    "    \"\"\"Information about a person.\"\"\"\n",
    "\n",
    "    name: str = Field(..., description=\"The name of the person\")\n",
    "    title: str = Field(..., description=\"The title or position of the person.\")\n",
    "\n",
    "\n",
    "# 출력 파서를 생성\n",
    "person_parser = PydanticOutputParser(pydantic_object=Person)\n",
    "print(\"========================================\")\n",
    "print(\"PydanticOutputParser 프롬프트\")\n",
    "print(\"----------------------------------------\")\n",
    "print(person_parser.get_format_instructions())\n",
    "print(\"========================================\")\n",
    "\n",
    "# Prompt 템플릿을 생성 - Pydantic 모델을 사용\n",
    "prompt = ChatPromptTemplate.from_messages(\n",
    "    [\n",
    "        (\n",
    "            \"system\",\n",
    "            \"Answer the user query. Wrap the output in `json` tags\\n{format_instructions}\",\n",
    "        ),\n",
    "        (\"human\", \"{query}\"),\n",
    "    ]\n",
    ").partial(format_instructions=person_parser.get_format_instructions())\n",
    "\n",
    "print(\"Prompt 템플릿\")\n",
    "print(\"----------------------------------------\")\n",
    "print(prompt.format(query=\"테슬라 창업자는 누구인가요?\"))\n",
    "print(\"========================================\")\n",
    "\n",
    "# 체인을 구성\n",
    "person_chain = prompt | llm | person_parser\n",
    "response = person_chain.invoke(\"테슬라 창업자는 누구인가요?\")\n",
    "print(response)\n",
    "\n"
   ],
   "outputs": [
    {
     "name": "stdout",
     "output_type": "stream",
     "text": [
      "========================================\n",
      "PydanticOutputParser 프롬프트\n",
      "----------------------------------------\n",
      "The output should be formatted as a JSON instance that conforms to the JSON schema below.\n",
      "\n",
      "As an example, for the schema {\"properties\": {\"foo\": {\"title\": \"Foo\", \"description\": \"a list of strings\", \"type\": \"array\", \"items\": {\"type\": \"string\"}}}, \"required\": [\"foo\"]}\n",
      "the object {\"foo\": [\"bar\", \"baz\"]} is a well-formatted instance of the schema. The object {\"properties\": {\"foo\": [\"bar\", \"baz\"]}} is not well-formatted.\n",
      "\n",
      "Here is the output schema:\n",
      "```\n",
      "{\"description\": \"Information about a person.\", \"properties\": {\"name\": {\"title\": \"Name\", \"description\": \"The name of the person\", \"type\": \"string\"}, \"title\": {\"title\": \"Title\", \"description\": \"The title or position of the person.\", \"type\": \"string\"}}, \"required\": [\"name\", \"title\"]}\n",
      "```\n",
      "========================================\n",
      "Prompt 템플릿\n",
      "----------------------------------------\n",
      "System: Answer the user query. Wrap the output in `json` tags\n",
      "The output should be formatted as a JSON instance that conforms to the JSON schema below.\n",
      "\n",
      "As an example, for the schema {\"properties\": {\"foo\": {\"title\": \"Foo\", \"description\": \"a list of strings\", \"type\": \"array\", \"items\": {\"type\": \"string\"}}}, \"required\": [\"foo\"]}\n",
      "the object {\"foo\": [\"bar\", \"baz\"]} is a well-formatted instance of the schema. The object {\"properties\": {\"foo\": [\"bar\", \"baz\"]}} is not well-formatted.\n",
      "\n",
      "Here is the output schema:\n",
      "```\n",
      "{\"description\": \"Information about a person.\", \"properties\": {\"name\": {\"title\": \"Name\", \"description\": \"The name of the person\", \"type\": \"string\"}, \"title\": {\"title\": \"Title\", \"description\": \"The title or position of the person.\", \"type\": \"string\"}}, \"required\": [\"name\", \"title\"]}\n",
      "```\n",
      "Human: 테슬라 창업자는 누구인가요?\n",
      "========================================\n",
      "name='일론 머스크' title='테슬라 창업자'\n"
     ]
    }
   ],
   "execution_count": 11
  },
  {
   "cell_type": "markdown",
   "id": "bfd1d063",
   "metadata": {},
   "source": [
    "## 3. Chat Completion Methods\n",
    "### (1) stream\n",
    "- 입력에 대한 응답을 실시간 스트림을 생성하여 전달"
   ]
  },
  {
   "cell_type": "code",
   "id": "d8e771ae",
   "metadata": {
    "ExecuteTime": {
     "end_time": "2025-07-05T12:39:17.456619Z",
     "start_time": "2025-07-05T12:39:07.393348Z"
    }
   },
   "source": [
    "import time\n",
    "\n",
    "for chunk in llm.stream(\"테슬라 창업자는 누구인가요?\"):\n",
    "    # print 함수는 출력할 때마다 줄바꿈을 하지만, 줄바꿈 없이 하려면 end=\"\"를 사용\n",
    "    # flush=Ture 옵션을 사용하여 출력 버퍼를 즉시 비움. 데이터를 지연 없이 즉시 출력하는데 유용\n",
    "    print(chunk.content, end=\"\", flush=True)\n",
    "    time.sleep(0.1)  # 0.1초 대기(100ms)"
   ],
   "outputs": [
    {
     "name": "stdout",
     "output_type": "stream",
     "text": [
      "테슬라의 공동 창업자는 일론 머스크(Elon Musk), JB 스트라우벨(JB Straubel), 마틴 에버하드(Martin Eberhard), 마크 타펜닝(Marc Tarpenning), 그리고 이반스 라이트(Ivan Sutherland)입니다. 특히 일론 머스크는 테슬라의 초기 투자자이자 현재 CEO로서 가장 잘 알려져 있습니다."
     ]
    }
   ],
   "execution_count": 12
  },
  {
   "cell_type": "markdown",
   "id": "e5a06fe4",
   "metadata": {},
   "source": [
    "### (2) batch\n",
    "- 입력 리스트에 대한 응답을 배치 단위로 생성"
   ]
  },
  {
   "cell_type": "code",
   "id": "59b329f7",
   "metadata": {
    "ExecuteTime": {
     "end_time": "2025-07-05T12:39:18.414755Z",
     "start_time": "2025-07-05T12:39:17.467045Z"
    }
   },
   "source": [
    "questions = [\n",
    "    \"테슬라의 창업자는 누구인가요?\",\n",
    "    \"리비안의 창업자는 누구인가요?\"\n",
    "]\n",
    "\n",
    "responses = llm.batch(questions)\n",
    "\n",
    "for response in responses:\n",
    "    response.pretty_print()\n",
    "    print()"
   ],
   "outputs": [
    {
     "name": "stdout",
     "output_type": "stream",
     "text": [
      "==================================\u001B[1m Ai Message \u001B[0m==================================\n",
      "\n",
      "테슬라의 창업자는 일론 머스크(Elon Musk), JB 스트라우벨(JB Straubel), 마틴 에버하드(Martin Eberhard), 마크 타페니스(Marc Tarpenning), 그리고 이반 차베스(Ivan Chavez)입니다. 특히 일론 머스크는 테슬라의 중요한 초기 투자자이자 CEO로서 큰 역할을 했습니다.\n",
      "\n",
      "==================================\u001B[1m Ai Message \u001B[0m==================================\n",
      "\n",
      "리비안(Rivian)의 창업자는 RJ Scaringe입니다. 그는 2009년에 리비안을 설립하였으며, 전기 픽업트럭과 SUV를 개발하는 회사로 알려져 있습니다.\n",
      "\n"
     ]
    }
   ],
   "execution_count": 13
  },
  {
   "metadata": {},
   "cell_type": "markdown",
   "source": [
    "## 4. Runnable\n",
    "### (1) RunnableParallel"
   ],
   "id": "adebe8cf293cf25b"
  },
  {
   "metadata": {
    "ExecuteTime": {
     "end_time": "2025-07-05T12:39:19.639969Z",
     "start_time": "2025-07-05T12:39:18.430051Z"
    }
   },
   "cell_type": "code",
   "source": [
    "# 문서 검색기 생성\n",
    "retriever = vectorstore.as_retriever(\n",
    "    search_kwargs={'k': 1},\n",
    ")\n",
    "query = \"테슬라 창업자는 누구인가요?\"\n",
    "retrieved_docs = retriever.invoke(query)\n",
    "retrieved_docs_text = \"\\n\".join([doc.page_content for doc in retrieved_docs])\n",
    "pprint(retrieved_docs_text)"
   ],
   "id": "eda59d1331759b2b",
   "outputs": [
    {
     "name": "stderr",
     "output_type": "stream",
     "text": [
      "Failed to send telemetry event CollectionQueryEvent: capture() takes 1 positional argument but 3 were given\n"
     ]
    },
    {
     "name": "stdout",
     "output_type": "stream",
     "text": [
      "('테슬라(Tesla, Inc.)는 텍사스주 오스틴에 본사를 둔 미국의 대표적인 전기차 제조업체입니다. 2003년 마틴 에버하드(CEO)와 '\n",
      " '마크 타페닝(CFO)에 의해 설립된 테슬라는 2004년 페이팔과 Zip2의 공동 창업자인 일론 머스크의 참여로 큰 전환점을 맞았습니다. '\n",
      " '머스크는 최대 주주이자 회장으로서 회사를 현재의 성공으로 이끌었습니다. 회사 이름은 유명한 물리학자이자 전기공학자인 니콜라 테슬라의 '\n",
      " '이름을 따서 지어졌습니다. 테슬라는 2010년 6월 나스닥에 상장되었습니다.')\n"
     ]
    }
   ],
   "execution_count": 14
  },
  {
   "metadata": {
    "ExecuteTime": {
     "end_time": "2025-07-05T12:39:19.653493Z",
     "start_time": "2025-07-05T12:39:19.649728Z"
    }
   },
   "cell_type": "code",
   "source": [
    "from langchain_core.runnables import RunnableParallel\n",
    "from operator import itemgetter\n",
    "\n",
    "# RunnableParallel 구성\n",
    "runnable = RunnableParallel(\n",
    "    {\"context\": itemgetter(\"context\"),\n",
    "     \"question\": itemgetter(\"question\"),}\n",
    ")\n",
    "\n",
    "response = runnable.invoke({\"context\": retrieved_docs_text,\n",
    "                            \"question\": query})\n",
    "print(response)"
   ],
   "id": "adbccb9520cb128d",
   "outputs": [
    {
     "name": "stdout",
     "output_type": "stream",
     "text": [
      "{'context': '테슬라(Tesla, Inc.)는 텍사스주 오스틴에 본사를 둔 미국의 대표적인 전기차 제조업체입니다. 2003년 마틴 에버하드(CEO)와 마크 타페닝(CFO)에 의해 설립된 테슬라는 2004년 페이팔과 Zip2의 공동 창업자인 일론 머스크의 참여로 큰 전환점을 맞았습니다. 머스크는 최대 주주이자 회장으로서 회사를 현재의 성공으로 이끌었습니다. 회사 이름은 유명한 물리학자이자 전기공학자인 니콜라 테슬라의 이름을 따서 지어졌습니다. 테슬라는 2010년 6월 나스닥에 상장되었습니다.', 'question': '테슬라 창업자는 누구인가요?'}\n"
     ]
    }
   ],
   "execution_count": 15
  },
  {
   "metadata": {},
   "cell_type": "markdown",
   "source": "### (2) RunnablePassthrough",
   "id": "e18a73b522d93f15"
  },
  {
   "metadata": {
    "ExecuteTime": {
     "end_time": "2025-07-05T12:39:19.678137Z",
     "start_time": "2025-07-05T12:39:19.672349Z"
    }
   },
   "cell_type": "code",
   "source": [
    "from langchain_core.runnables import RunnablePassthrough\n",
    "\n",
    "runnable = RunnableParallel(\n",
    "    question = RunnablePassthrough()\n",
    ")\n",
    "runnable.invoke(\"테슬라 창업자는 누구인가요?\")"
   ],
   "id": "cf590ee68a3e6868",
   "outputs": [
    {
     "data": {
      "text/plain": [
       "{'question': '테슬라 창업자는 누구인가요?'}"
      ]
     },
     "execution_count": 16,
     "metadata": {},
     "output_type": "execute_result"
    }
   ],
   "execution_count": 16
  },
  {
   "metadata": {},
   "cell_type": "markdown",
   "source": [
    "### (3) RunnableLambda\n",
    "- 정의 : 파이썬의 커스텀 함수를 매핑하는데 사용"
   ],
   "id": "beb8c022cc4652b2"
  },
  {
   "metadata": {
    "ExecuteTime": {
     "end_time": "2025-07-05T12:39:19.695343Z",
     "start_time": "2025-07-05T12:39:19.691884Z"
    }
   },
   "cell_type": "code",
   "source": [
    "from langchain_core.runnables import RunnableLambda\n",
    "\n",
    "def count_num_words(text):\n",
    "    return len(text.split())\n",
    "\n",
    "runnable = RunnableParallel(\n",
    "    question=RunnablePassthrough(),\n",
    "    word_count=RunnableLambda(count_num_words)\n",
    ")\n",
    "runnable.invoke(\"테슬라 창업자는 누구인가요?\")"
   ],
   "id": "cfbce38fa610ac0a",
   "outputs": [
    {
     "data": {
      "text/plain": [
       "{'question': '테슬라 창업자는 누구인가요?', 'word_count': 3}"
      ]
     },
     "execution_count": 17,
     "metadata": {},
     "output_type": "execute_result"
    }
   ],
   "execution_count": 17
  },
  {
   "metadata": {},
   "cell_type": "markdown",
   "source": [
    "## 5. 전체 RAG 파이프라인 구성\n",
    "### (1) RAG 프롬프트 템플릿"
   ],
   "id": "8aa81845a8e6b371"
  },
  {
   "metadata": {
    "ExecuteTime": {
     "end_time": "2025-07-05T12:39:19.715420Z",
     "start_time": "2025-07-05T12:39:19.711806Z"
    }
   },
   "cell_type": "code",
   "source": [
    "# Prompt 템플릿을 생성\n",
    "from langchain.prompts import ChatPromptTemplate\n",
    "\n",
    "template = \"\"\"Answer the question based only on the following context.\n",
    "Do not use any external information or knowledge.\n",
    "If the answer is not in the context, answer \"잘 모르겠습니다.\".\n",
    "\n",
    "[Context]\n",
    "{context}\n",
    "\n",
    "[Question]\n",
    "{question}\n",
    "\n",
    "[Answer]\n",
    "\"\"\"\n",
    "\n",
    "prompt = ChatPromptTemplate.from_template(template)\n",
    "\n",
    "# 템플릿을 출력\n",
    "prompt.pretty_print()"
   ],
   "id": "c202ac2835586fa0",
   "outputs": [
    {
     "name": "stdout",
     "output_type": "stream",
     "text": [
      "================================\u001B[1m Human Message \u001B[0m=================================\n",
      "\n",
      "Answer the question based only on the following context.\n",
      "Do not use any external information or knowledge.\n",
      "If the answer is not in the context, answer \"잘 모르겠습니다.\".\n",
      "\n",
      "[Context]\n",
      "\u001B[33;1m\u001B[1;3m{context}\u001B[0m\n",
      "\n",
      "[Question]\n",
      "\u001B[33;1m\u001B[1;3m{question}\u001B[0m\n",
      "\n",
      "[Answer]\n",
      "\n"
     ]
    }
   ],
   "execution_count": 18
  },
  {
   "metadata": {},
   "cell_type": "markdown",
   "source": "### (2) Retriever Chain 연결",
   "id": "a57c6d45e4e259bd"
  },
  {
   "metadata": {
    "ExecuteTime": {
     "end_time": "2025-07-05T12:39:20.041225Z",
     "start_time": "2025-07-05T12:39:19.730977Z"
    }
   },
   "cell_type": "code",
   "source": [
    "# 벡터 검색기\n",
    "retriever = vectorstore.as_retriever(search_kwargs={'k': 2})\n",
    "\n",
    "# 문서 포맷터 함수\n",
    "def format_docs(docs):\n",
    "    return  \"\\n\\n\".join([d.page_content for d in docs])\n",
    "\n",
    "# 체인 구성\n",
    "retriever_chain = retriever | format_docs\n",
    "\n",
    "# 체인을 실행\n",
    "response = retriever_chain.invoke(\"테슬라 창업자는 누구인가요?\")\n",
    "\n",
    "pprint(response)"
   ],
   "id": "be40befa23dfb958",
   "outputs": [
    {
     "name": "stdout",
     "output_type": "stream",
     "text": [
      "('테슬라(Tesla, Inc.)는 텍사스주 오스틴에 본사를 둔 미국의 대표적인 전기차 제조업체입니다. 2003년 마틴 에버하드(CEO)와 '\n",
      " '마크 타페닝(CFO)에 의해 설립된 테슬라는 2004년 페이팔과 Zip2의 공동 창업자인 일론 머스크의 참여로 큰 전환점을 맞았습니다. '\n",
      " '머스크는 최대 주주이자 회장으로서 회사를 현재의 성공으로 이끌었습니다. 회사 이름은 유명한 물리학자이자 전기공학자인 니콜라 테슬라의 '\n",
      " '이름을 따서 지어졌습니다. 테슬라는 2010년 6월 나스닥에 상장되었습니다.\\n'\n",
      " '\\n'\n",
      " '2023년 테슬라는 1,808,581대의 차량을 판매하여 2022년에 비해 37.65% 증가했습니다. 2012년부터 2023년 3분기까지 '\n",
      " '테슬라의 전 세계 누적 판매량은 4,962,975대를 초과했습니다. SMT Packaging에 따르면, 2023년 테슬라의 판매량은 전 '\n",
      " '세계 전기차 시장의 약 12.9%를 차지했습니다.')\n"
     ]
    }
   ],
   "execution_count": 19
  },
  {
   "metadata": {},
   "cell_type": "markdown",
   "source": "### (3) RAG Chain 연결",
   "id": "f50aaa45c23bf3b1"
  },
  {
   "metadata": {
    "ExecuteTime": {
     "end_time": "2025-07-05T12:39:22.243734Z",
     "start_time": "2025-07-05T12:39:20.057139Z"
    }
   },
   "cell_type": "code",
   "source": [
    "from langchain_core.output_parsers import StrOutputParser\n",
    "from langchain_openai import ChatOpenAI\n",
    "\n",
    "# LLM 모델 생성\n",
    "llm = ChatOpenAI(\n",
    "    model=\"gpt-4.1-mini\",\n",
    "    temperature=0,\n",
    "    max_tokens=100,\n",
    ")\n",
    "\n",
    "# 체인 생성\n",
    "rag_chain = (\n",
    "    {\"context\": retriever_chain,\n",
    "     \"question\": RunnablePassthrough()} #runnableParallel\n",
    "    | prompt\n",
    "    | llm\n",
    "    | StrOutputParser()\n",
    ")\n",
    "\n",
    "query = \"테슬라 창업자는 누구인가요?\"\n",
    "response = rag_chain.invoke(query)\n",
    "\n",
    "print(response)"
   ],
   "id": "31dd03a1d3eb45a4",
   "outputs": [
    {
     "name": "stdout",
     "output_type": "stream",
     "text": [
      "테슬라의 창업자는 마틴 에버하드(CEO)와 마크 타페닝(CFO)입니다.\n"
     ]
    }
   ],
   "execution_count": 20
  },
  {
   "metadata": {},
   "cell_type": "markdown",
   "source": [
    "## 6. Gradio 챗봇\n",
    "### (1) invoke 실행"
   ],
   "id": "8e686f0d098a8d3d"
  },
  {
   "metadata": {
    "ExecuteTime": {
     "end_time": "2025-07-05T12:59:55.258921Z",
     "start_time": "2025-07-05T12:59:55.223086Z"
    }
   },
   "cell_type": "code",
   "source": [
    "import gradio as gr\n",
    "def answer_invoke(message, history):\n",
    "    response = rag_chain.invoke(message)\n",
    "    return response\n",
    "\n",
    "# Graiio 인터페이스 생성\n",
    "demo = gr.ChatInterface(fn=answer_invoke, title=\"QA Bot\")"
   ],
   "id": "b4e0247e3d8625f6",
   "outputs": [],
   "execution_count": 23
  },
  {
   "metadata": {},
   "cell_type": "markdown",
   "source": "(2) stream 실행",
   "id": "1c958c101475a5ac"
  },
  {
   "metadata": {},
   "cell_type": "code",
   "outputs": [],
   "execution_count": null,
   "source": [
    "import gradio as gr\n",
    "\n",
    "def answer_invoke(message, history):\n",
    "    partial_message = \"\"\n",
    "    for chunk in rag_chain.stream(message):\n",
    "        if chunk is not None:\n",
    "            partial_message = partial_message + chunk\n",
    "            time.sleep(0.1)\n",
    "            yield partial_message\n",
    "\n",
    "# Graiio 인터페이스 생성\n",
    "demo = gr.ChatInterface(fn=answer_invoke(), title=\"QA Bot\")"
   ],
   "id": "a7cdbf641ed7374e"
  }
 ],
 "metadata": {
  "kernelspec": {
   "display_name": "langchain_env",
   "language": "python",
   "name": "python3"
  },
  "language_info": {
   "codemirror_mode": {
    "name": "ipython",
    "version": 3
   },
   "file_extension": ".py",
   "mimetype": "text/x-python",
   "name": "python",
   "nbconvert_exporter": "python",
   "pygments_lexer": "ipython3",
   "version": "3.11.13"
  }
 },
 "nbformat": 4,
 "nbformat_minor": 5
}
