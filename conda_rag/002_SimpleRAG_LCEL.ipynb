{
 "cells": [
  {
   "cell_type": "markdown",
   "id": "e0954173",
   "metadata": {},
   "source": [
    "## 1. 환경 설정"
   ]
  },
  {
   "cell_type": "code",
   "execution_count": 1,
   "id": "1e1376e3",
   "metadata": {},
   "outputs": [
    {
     "name": "stderr",
     "output_type": "stream",
     "text": [
      "Failed to send telemetry event ClientStartEvent: capture() takes 1 positional argument but 3 were given\n",
      "Failed to send telemetry event ClientCreateCollectionEvent: capture() takes 1 positional argument but 3 were given\n"
     ]
    },
    {
     "name": "stdout",
     "output_type": "stream",
     "text": [
      "벡터 저장소에 저장된 문서 수: 5\n"
     ]
    }
   ],
   "source": [
    "# (1) Env 환경변수\n",
    "from dotenv import load_dotenv\n",
    "load_dotenv()\n",
    "\n",
    "# (2) 기본 라이브러리\n",
    "import os\n",
    "from glob import glob\n",
    "\n",
    "from pprint import pprint\n",
    "\n",
    "# 벡터저장소 로드\n",
    "from langchain_chroma import Chroma\n",
    "from langchain_openai import OpenAIEmbeddings\n",
    "\n",
    "embeddings = OpenAIEmbeddings(\n",
    "    model=\"text-embedding-3-small\",\n",
    ")\n",
    "\n",
    "vectorstore = Chroma(\n",
    "    embedding_function=embeddings,\n",
    "    collection_name=\"chroma_test\",\n",
    "    persist_directory=\"./chroma_db\",\n",
    ")\n",
    "\n",
    "print(f\"벡터 저장소에 저장된 문서 수: {vectorstore._collection.count()}\")"
   ]
  },
  {
   "cell_type": "markdown",
   "id": "07d02097",
   "metadata": {},
   "source": [
    "## 2. LangChain LCEL\n",
    "### 2.1 Prompt + LLM"
   ]
  },
  {
   "cell_type": "code",
   "execution_count": 4,
   "id": "f4f25469",
   "metadata": {},
   "outputs": [
    {
     "name": "stdout",
     "output_type": "stream",
     "text": [
      "input_variables=['query'] messages=[SystemMessagePromptTemplate(prompt=PromptTemplate(input_variables=[], template='You are a helpful assistant.')), HumanMessagePromptTemplate(prompt=PromptTemplate(input_variables=['query'], template='{query}'))]\n",
      "['query']\n",
      "System: You are a helpful assistant.\n",
      "Human: 테슬라 창업자는 누구인가요?\n",
      "테슬라의 창업자는 마틴 에버하드(Martin Eberhard)와 마크 타페닝(Marc Tarpenning)입니다. 이후 일론 머스크(Elon Musk), JB 스트라우벨(JB Straubel), 그리고 이반스 리우(Ivan Sroulel)가 합류하면서 회사의 핵심 멤버가 되었습니다. 특히 일론 머스크는 테슬라의 대표이사로서 회사의 성장과 발전에\n"
     ]
    }
   ],
   "source": [
    "# 다중 메시지 전송\n",
    "from langchain_openai import ChatOpenAI\n",
    "from langchain_core.prompts import ChatPromptTemplate\n",
    "\n",
    "# 모델 초기화\n",
    "llm = ChatOpenAI(\n",
    "    model=\"gpt-4.1-nano\", \n",
    "    temperature=0.3, \n",
    "    max_tokens=100,\n",
    "    )\n",
    "\n",
    "messages = [\n",
    "    (\"system\", \"You are a helpful assistant.\"),\n",
    "    (\"user\", \"{query}\"),\n",
    "]\n",
    "\n",
    "# 메시지 리스트를 템플릿으로 변환\n",
    "prompt = ChatPromptTemplate.from_messages(messages)\n",
    "\n",
    "# 템플릿을 출력\n",
    "print(prompt)\n",
    "\n",
    "# 템플릿 입력 변수를 출력\n",
    "print(prompt.input_variables)\n",
    "\n",
    "# input 값을 전달하여 프롬프트를 랜더링\n",
    "prompt_text = prompt.format(query=\"테슬라 창업자는 누구인가요?\")\n",
    "print(prompt_text)\n",
    "\n",
    "# 모델에 prompt text를 직접 입력\n",
    "response = llm.invoke(prompt_text)\n",
    "print(response.content)"
   ]
  },
  {
   "cell_type": "code",
   "execution_count": 5,
   "id": "337f8017",
   "metadata": {},
   "outputs": [
    {
     "name": "stdout",
     "output_type": "stream",
     "text": [
      "first=ChatPromptTemplate(input_variables=['query'], messages=[SystemMessagePromptTemplate(prompt=PromptTemplate(input_variables=[], template='You are a helpful assistant.')), HumanMessagePromptTemplate(prompt=PromptTemplate(input_variables=['query'], template='{query}'))]) last=ChatOpenAI(client=<openai.resources.chat.completions.completions.Completions object at 0x1449531d0>, async_client=<openai.resources.chat.completions.completions.AsyncCompletions object at 0x144950f50>, root_client=<openai.OpenAI object at 0x144917c90>, root_async_client=<openai.AsyncOpenAI object at 0x120798e50>, model_name='gpt-4.1-nano', temperature=0.3, openai_api_key=SecretStr('**********'), openai_proxy='', max_tokens=100)\n"
     ]
    }
   ],
   "source": [
    "# LCEL 체인을 구성\n",
    "chain = prompt | llm\n",
    "print(chain)"
   ]
  },
  {
   "cell_type": "code",
   "execution_count": 6,
   "id": "bfa04923",
   "metadata": {},
   "outputs": [
    {
     "name": "stdout",
     "output_type": "stream",
     "text": [
      "{'properties': {'query': {'title': 'Query', 'type': 'string'}},\n",
      " 'required': ['query'],\n",
      " 'title': 'PromptInput',\n",
      " 'type': 'object'}\n"
     ]
    }
   ],
   "source": [
    "# 체인의 입력 스키마를 출력\n",
    "from pprint import pprint\n",
    "pprint(chain.input_schema.schema())"
   ]
  },
  {
   "cell_type": "code",
   "execution_count": 7,
   "id": "0398ca96",
   "metadata": {},
   "outputs": [
    {
     "name": "stdout",
     "output_type": "stream",
     "text": [
      "테슬라의 창업자는 일론 머스크(Elon Musk), JB 스트라우벨(JB Straubel), 마틴 에버하드(Martin Eberhard), 마크 타페니스(Marc Tarpenning), 그리고 이반스 리우(Ivan Sutherland)입니다. 이 중에서 일론 머스크는 종종 테슬라의 대표적 인물로 알려져 있으며, 현재도 회사의 중요한 역할을 맡고 있습니다.\n"
     ]
    }
   ],
   "source": [
    "# 체인을 실행 - 옵션 1\n",
    "response = chain.invoke({\"query\":\"테슬라 창업자는 누구인가요?\"})\n",
    "print(response.content)"
   ]
  },
  {
   "cell_type": "code",
   "execution_count": 22,
   "id": "129d3011",
   "metadata": {},
   "outputs": [
    {
     "name": "stdout",
     "output_type": "stream",
     "text": [
      "테슬라의 창업자는 일론 머스크(Elon Musk), JB 스트라우벨(JB Straubel), 마틴 에버하드(Martin Eberhard), 마크 타펜링(Marc Tarpenning), 그리고 이반스 리브체크(Ivaniviviviviviviviviviviviviviviviviviviviviviviviviviviviviviviviviviviviviviviviv\n"
     ]
    }
   ],
   "source": [
    "# 체인을 실행 - 옵션 2\n",
    "response = chain.invoke(\"테슬라 창업자는 누구인가요?\")\n",
    "print(response.content)"
   ]
  },
  {
   "cell_type": "markdown",
   "id": "022b30a3",
   "metadata": {},
   "source": [
    "## 2.2 Prompt + LLM + Output Parser\n",
    "### a) 문자열 파싱 - StrOutputParser"
   ]
  },
  {
   "cell_type": "code",
   "execution_count": null,
   "id": "98e7e19c",
   "metadata": {},
   "outputs": [
    {
     "name": "stdout",
     "output_type": "stream",
     "text": [
      "```json\n",
      "{\n",
      "  \"name\": \"리비안\",\n",
      "  \"title\": \"설립년도\"\n",
      "}\n",
      "```\n"
     ]
    }
   ],
   "source": [
    "\n",
    "from langchain_core.output_parsers import StrOutputParser\n",
    "output_parser = StrOutputParser()\n",
    "output_parser.invoke(response)\n",
    "\n",
    "str_chain = prompt | llm | output_parser\n",
    "query=\"리비안의 설립년도는 언제인가요?\"\n",
    "str_response = str_chain.invoke(query)\n",
    "print(str_response)"
   ]
  },
  {
   "cell_type": "markdown",
   "id": "e3e85cf9",
   "metadata": {},
   "source": [
    "### b) JSON 출력 - JsonOutputParser"
   ]
  },
  {
   "cell_type": "code",
   "execution_count": null,
   "id": "c4973b8d",
   "metadata": {},
   "outputs": [
    {
     "name": "stdout",
     "output_type": "stream",
     "text": [
      "content='```json\\n{\\n  \"창업자\": \"마틴 에반스, 마크 타페닝, JB 스트라우벨, 이반스, 마틴 에반스, 마크 타페닝, JB 스트라우벨\"\\n}\\n```' additional_kwargs={'refusal': None} response_metadata={'token_usage': {'completion_tokens': 51, 'prompt_tokens': 34, 'total_tokens': 85, 'completion_tokens_details': {'accepted_prediction_tokens': 0, 'audio_tokens': 0, 'reasoning_tokens': 0, 'rejected_prediction_tokens': 0}, 'prompt_tokens_details': {'audio_tokens': 0, 'cached_tokens': 0}}, 'model_name': 'gpt-4.1-nano-2025-04-14', 'system_fingerprint': 'fp_38343a2f8f', 'finish_reason': 'stop', 'logprobs': None} id='run-e72cedd0-29f0-47d5-9bf5-dad29e83c099-0' usage_metadata={'input_tokens': 34, 'output_tokens': 51, 'total_tokens': 85}\n",
      "{'창업자': '마틴 에반스, 마크 타페닝, JB 스트라우벨, 이반스, 마틴 에반스, 마크 타페닝, JB 스트라우벨'}\n"
     ]
    }
   ],
   "source": [
    "from langchain_core.output_parsers import JsonOutputParser\n",
    "\n",
    "# 출력 파서를 생성\n",
    "json_parser = JsonOutputParser()\n",
    "\n",
    "# 체인을 실행(Json 출력)\n",
    "json_response = chain.invoke(\"테슬라 창업자는 누구인가요? JSON형식으로 출력해주세요.\")\n",
    "print(json_response)\n",
    "\n",
    "json_parser_output = json_parser.invoke(json_response)\n",
    "print(json_parser_output)"
   ]
  },
  {
   "cell_type": "markdown",
   "id": "5a44e32a",
   "metadata": {},
   "source": [
    "### c) Schema 지정 - Pydantic"
   ]
  },
  {
   "cell_type": "code",
   "execution_count": null,
   "id": "c9f2bf84",
   "metadata": {},
   "outputs": [
    {
     "name": "stdout",
     "output_type": "stream",
     "text": [
      "========================================\n",
      "PydanticOutputParser 프롬프트\n",
      "----------------------------------------\n",
      "The output should be formatted as a JSON instance that conforms to the JSON schema below.\n",
      "\n",
      "As an example, for the schema {\"properties\": {\"foo\": {\"title\": \"Foo\", \"description\": \"a list of strings\", \"type\": \"array\", \"items\": {\"type\": \"string\"}}}, \"required\": [\"foo\"]}\n",
      "the object {\"foo\": [\"bar\", \"baz\"]} is a well-formatted instance of the schema. The object {\"properties\": {\"foo\": [\"bar\", \"baz\"]}} is not well-formatted.\n",
      "\n",
      "Here is the output schema:\n",
      "```\n",
      "{\"description\": \"Information about a person.\", \"properties\": {\"name\": {\"title\": \"Name\", \"description\": \"The name of the person\", \"type\": \"string\"}, \"title\": {\"title\": \"Title\", \"description\": \"The title or position of the person.\", \"type\": \"string\"}}, \"required\": [\"name\", \"title\"]}\n",
      "```\n",
      "========================================\n",
      "Prompt 템플릿\n",
      "----------------------------------------\n",
      "System: Answer the user query. Wrap the output in `json` tags\n",
      "The output should be formatted as a JSON instance that conforms to the JSON schema below.\n",
      "\n",
      "As an example, for the schema {\"properties\": {\"foo\": {\"title\": \"Foo\", \"description\": \"a list of strings\", \"type\": \"array\", \"items\": {\"type\": \"string\"}}}, \"required\": [\"foo\"]}\n",
      "the object {\"foo\": [\"bar\", \"baz\"]} is a well-formatted instance of the schema. The object {\"properties\": {\"foo\": [\"bar\", \"baz\"]}} is not well-formatted.\n",
      "\n",
      "Here is the output schema:\n",
      "```\n",
      "{\"description\": \"Information about a person.\", \"properties\": {\"name\": {\"title\": \"Name\", \"description\": \"The name of the person\", \"type\": \"string\"}, \"title\": {\"title\": \"Title\", \"description\": \"The title or position of the person.\", \"type\": \"string\"}}, \"required\": [\"name\", \"title\"]}\n",
      "```\n",
      "Human: 테슬라 창업자는 누구인가요?\n",
      "========================================\n",
      "name='일론 머스크' title='테슬라 창업자'\n"
     ]
    }
   ],
   "source": [
    "from langchain_core.output_parsers import PydanticOutputParser\n",
    "from langchain_core.pydantic_v1 import BaseModel, Field, validator\n",
    "\n",
    "# Pydantic 모델을 생성\n",
    "class Person(BaseModel):\n",
    "    \"\"\"Information about a person.\"\"\"\n",
    "\n",
    "    name: str = Field(..., description=\"The name of the person\")\n",
    "    title: str = Field(..., description=\"The title or position of the person.\")\n",
    "\n",
    "# 출력 파서를 생성\n",
    "person_parser = PydanticOutputParser(pydantic_object=Person)\n",
    "print(\"========================================\")\n",
    "print(\"PydanticOutputParser 프롬프트\")\n",
    "print(\"----------------------------------------\")\n",
    "print(person_parser.get_format_instructions())\n",
    "print(\"========================================\")\n",
    "\n",
    "\n",
    "# Prompt 템플릿을 생성 - Pydantic 모델을 사용\n",
    "prompt = ChatPromptTemplate.from_messages(\n",
    "    [\n",
    "        (\n",
    "            \"system\",\n",
    "            \"Answer the user query. Wrap the output in `json` tags\\n{format_instructions}\",\n",
    "        ),\n",
    "        (\"human\", \"{query}\"),\n",
    "    ]\n",
    ").partial(format_instructions=person_parser.get_format_instructions())\n",
    "\n",
    "print(\"Prompt 템플릿\")\n",
    "print(\"----------------------------------------\")\n",
    "print(prompt.format(query=\"테슬라 창업자는 누구인가요?\"))\n",
    "print(\"========================================\")\n",
    "\n",
    "# 체인을 구성\n",
    "person_chain = prompt | llm | person_parser\n",
    "response = person_chain.invoke(\"테슬라 창업자는 누구인가요?\")\n",
    "print(response)\n",
    "\n"
   ]
  },
  {
   "cell_type": "markdown",
   "id": "bfd1d063",
   "metadata": {},
   "source": [
    "## 3. Chat Completion Methods\n",
    "### (1) stream\n",
    "- 입력에 대한 응답을 실시간 스트림을 생성하여 전달"
   ]
  },
  {
   "cell_type": "code",
   "execution_count": 18,
   "id": "d8e771ae",
   "metadata": {},
   "outputs": [
    {
     "name": "stdout",
     "output_type": "stream",
     "text": [
      "테슬라의 창업자는 마틴 에버하드(Martin Eberhard)와 마크 타페닝(Marc Tarpenning)입니다. 이후 일론 머스크(Elon Musk), JB 스트라우벨(JB Straubel), 그리고 이반스 리브스(Ivaniv Reeve)가 참여하여 회사의 발전에 중요한 역할을 했습니다. 특히 일론 머스크는 테슬라의 CEO로서 회사의 성장과 전기차 산업의"
     ]
    }
   ],
   "source": [
    "import time\n",
    "\n",
    "for chunk in llm.stream(\"테슬라 창업자는 누구인가요?\"):\n",
    "    # print 함수는 출력할 때마다 줄바꿈을 하지만, 줄바꿈 없이 하려면 end=\"\"를 사용\n",
    "    # flush=Ture 옵션을 사용하여 출력 버퍼를 즉시 비움. 데이터를 지연 없이 즉시 출력하는데 유용\n",
    "    print(chunk.content, end=\"\", flush=True)\n",
    "    time.sleep(0.1) # 0.1초 대기(100ms)"
   ]
  },
  {
   "cell_type": "markdown",
   "id": "e5a06fe4",
   "metadata": {},
   "source": [
    "### (2) batch\n",
    "- 입력 리스트에 대한 응답을 배치 단위로 생성"
   ]
  },
  {
   "cell_type": "code",
   "execution_count": 24,
   "id": "59b329f7",
   "metadata": {},
   "outputs": [
    {
     "name": "stdout",
     "output_type": "stream",
     "text": [
      "==================================\u001b[1m Ai Message \u001b[0m==================================\n",
      "\n",
      "테슬라의 창업자는 일론 머스크(Elon Musk), JB 스트라우벨(JB Straubel), 마틴 에버하드(Martin Eberhard), 마크 타페니스(Marc Tarpenning), 그리고 이반스 리브(Ivan Sutherland)입니다. 이 중에서 일론 머스크는 종종 대표 창업자로 언급되며, 회사의 성장과 방향성에 큰 영향을 미쳤습니다.\n",
      "\n",
      "==================================\u001b[1m Ai Message \u001b[0m==================================\n",
      "\n",
      "리비안(Rivian)의 창업자는 RJ Scaringe입니다. 그는 2009년에 리비안을 설립하였으며, 전기차 및 전기 픽업트럭 개발에 주력하고 있습니다.\n",
      "\n"
     ]
    }
   ],
   "source": [
    "questions = [\n",
    "    \"테슬라의 창업자는 누구인가요?\",\n",
    "    \"리비안의 창업자는 누구인가요?\"\n",
    "]\n",
    "\n",
    "responses = llm.batch(questions)\n",
    "\n",
    "for response in responses:\n",
    "    response.pretty_print()\n",
    "    print()"
   ]
  }
 ],
 "metadata": {
  "kernelspec": {
   "display_name": "langchain_env",
   "language": "python",
   "name": "python3"
  },
  "language_info": {
   "codemirror_mode": {
    "name": "ipython",
    "version": 3
   },
   "file_extension": ".py",
   "mimetype": "text/x-python",
   "name": "python",
   "nbconvert_exporter": "python",
   "pygments_lexer": "ipython3",
   "version": "3.11.13"
  }
 },
 "nbformat": 4,
 "nbformat_minor": 5
}
